{
  "nbformat": 4,
  "nbformat_minor": 0,
  "metadata": {
    "colab": {
      "name": "Apriori.ipynb",
      "provenance": [],
      "collapsed_sections": [],
      "authorship_tag": "ABX9TyNOfdNSLqZnSFMqvAo9mlXk",
      "include_colab_link": true
    },
    "kernelspec": {
      "name": "python3",
      "display_name": "Python 3"
    },
    "language_info": {
      "name": "python"
    }
  },
  "cells": [
    {
      "cell_type": "markdown",
      "metadata": {
        "id": "view-in-github",
        "colab_type": "text"
      },
      "source": [
        "<a href=\"https://colab.research.google.com/github/rutujashastri/MarketBasketAnalysis/blob/main/Apriori.ipynb\" target=\"_parent\"><img src=\"https://colab.research.google.com/assets/colab-badge.svg\" alt=\"Open In Colab\"/></a>"
      ]
    },
    {
      "cell_type": "code",
      "execution_count": null,
      "metadata": {
        "colab": {
          "base_uri": "https://localhost:8080/"
        },
        "id": "PUV2cbhVfWuR",
        "outputId": "b1fbba89-baa5-48dc-cbb9-de6c79e8c4cb"
      },
      "outputs": [
        {
          "output_type": "stream",
          "name": "stdout",
          "text": [
            "Looking in indexes: https://pypi.org/simple, https://us-python.pkg.dev/colab-wheels/public/simple/\n",
            "Collecting apyori\n",
            "  Downloading apyori-1.1.2.tar.gz (8.6 kB)\n",
            "Building wheels for collected packages: apyori\n",
            "  Building wheel for apyori (setup.py) ... \u001b[?25l\u001b[?25hdone\n",
            "  Created wheel for apyori: filename=apyori-1.1.2-py3-none-any.whl size=5974 sha256=e176c008be0822ba7241072709e223719d43d75c3b0fb46d3528c4a0e50d175b\n",
            "  Stored in directory: /root/.cache/pip/wheels/cb/f6/e1/57973c631d27efd1a2f375bd6a83b2a616c4021f24aab84080\n",
            "Successfully built apyori\n",
            "Installing collected packages: apyori\n",
            "Successfully installed apyori-1.1.2\n"
          ]
        }
      ],
      "source": [
        "!pip install apyori\n",
        "\n"
      ]
    },
    {
      "cell_type": "code",
      "source": [
        "!pip install apriori"
      ],
      "metadata": {
        "colab": {
          "base_uri": "https://localhost:8080/"
        },
        "id": "Kbj3Sqojn7Vq",
        "outputId": "f2b597da-ad73-4453-a5d6-1f16657454b7"
      },
      "execution_count": null,
      "outputs": [
        {
          "output_type": "stream",
          "name": "stdout",
          "text": [
            "Looking in indexes: https://pypi.org/simple, https://us-python.pkg.dev/colab-wheels/public/simple/\n",
            "Requirement already satisfied: apriori in /usr/local/lib/python3.7/dist-packages (1.0.0)\n"
          ]
        }
      ]
    },
    {
      "cell_type": "code",
      "source": [
        "import pandas as pd\n",
        "import numpy as np\n",
        "from apyori import apriori\n",
        "\n",
        "df = pd.read_csv('/content/retail_dataset.csv')\n",
        "print(df)\n",
        "df.shape\n",
        "\n",
        "records = []\n",
        "for i in range(0,315):\n",
        "  records.append([str(df.values[i,j]) for j in range(0,7)])\n",
        "\n",
        "association_rules = apriori(records, min_support=0.007, min_confidence =\n",
        "0.2, min_lift = 3, min_length = 2)\n",
        "association_result = list(association_rules)\n",
        "print(len(association_result))\n",
        "print(association_result)\n",
        "\n"
      ],
      "metadata": {
        "colab": {
          "base_uri": "https://localhost:8080/"
        },
        "id": "2z90YxeehWUJ",
        "outputId": "e7aa7dff-bec6-4698-afba-36ebb9c4ebcc"
      },
      "execution_count": null,
      "outputs": [
        {
          "output_type": "stream",
          "name": "stdout",
          "text": [
            "          0       1       2       3       4       5       6\n",
            "0     Bread    Wine    Eggs    Meat  Cheese  Pencil  Diaper\n",
            "1     Bread  Cheese    Meat  Diaper    Wine    Milk  Pencil\n",
            "2    Cheese    Meat    Eggs    Milk    Wine     NaN     NaN\n",
            "3    Cheese    Meat    Eggs    Milk    Wine     NaN     NaN\n",
            "4      Meat  Pencil    Wine     NaN     NaN     NaN     NaN\n",
            "..      ...     ...     ...     ...     ...     ...     ...\n",
            "310   Bread    Eggs  Cheese     NaN     NaN     NaN     NaN\n",
            "311    Meat    Milk  Pencil     NaN     NaN     NaN     NaN\n",
            "312   Bread  Cheese    Eggs    Meat  Pencil  Diaper    Wine\n",
            "313    Meat  Cheese     NaN     NaN     NaN     NaN     NaN\n",
            "314    Eggs    Wine   Bagel   Bread    Meat     NaN     NaN\n",
            "\n",
            "[315 rows x 7 columns]\n",
            "2\n",
            "[RelationRecord(items=frozenset({'Wine', 'Pencil', 'Cheese', 'Meat', 'Diaper', 'Bagel', 'Eggs'}), support=0.012698412698412698, ordered_statistics=[OrderedStatistic(items_base=frozenset({'Diaper', 'Cheese', 'Pencil', 'Meat'}), items_add=frozenset({'Bagel', 'Wine', 'Eggs'}), confidence=0.2857142857142857, lift=3.1034482758620685), OrderedStatistic(items_base=frozenset({'Diaper', 'Eggs', 'Pencil', 'Meat'}), items_add=frozenset({'Cheese', 'Wine', 'Bagel'}), confidence=0.36363636363636365, lift=3.3689839572192515), OrderedStatistic(items_base=frozenset({'Pencil', 'Cheese', 'Meat', 'Diaper', 'Eggs'}), items_add=frozenset({'Bagel', 'Wine'}), confidence=0.5714285714285714, lift=3.333333333333333)]), RelationRecord(items=frozenset({'Wine', 'Pencil', 'Cheese', 'Milk', 'Meat', 'Diaper', 'Bread'}), support=0.009523809523809525, ordered_statistics=[OrderedStatistic(items_base=frozenset({'Pencil', 'Cheese', 'Milk', 'Meat', 'Diaper'}), items_add=frozenset({'Wine', 'Bread'}), confidence=1.0, lift=4.090909090909091)])]\n"
          ]
        }
      ]
    }
  ]
}